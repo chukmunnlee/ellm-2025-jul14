{
 "cells": [
  {
   "cell_type": "code",
   "execution_count": 1,
   "id": "fe5bba2e",
   "metadata": {},
   "outputs": [],
   "source": [
    "import os\n",
    "from langchain_community.document_loaders import UnstructuredEPubLoader\n",
    "from langchain_text_splitters import RecursiveCharacterTextSplitter\n",
    "\n",
    "import chromadb\n",
    "from uuid import uuid4\n",
    "from chromadb.utils import embedding_functions\n",
    "\n",
    "from transformers import AutoTokenizer, AutoModelForSeq2SeqLM"
   ]
  },
  {
   "cell_type": "code",
   "execution_count": 35,
   "id": "9f62b17f",
   "metadata": {},
   "outputs": [
    {
     "name": "stderr",
     "output_type": "stream",
     "text": [
      "[WARNING] Could not load translations for en-US\n",
      "  data file translations/en.yaml not found\n",
      "[WARNING] The term Abstract has no translation defined.\n",
      "\n"
     ]
    },
    {
     "name": "stdout",
     "output_type": "stream",
     "text": [
      "431\n"
     ]
    }
   ],
   "source": [
    "# TODO: Load document \n",
    "chunk_size=512\n",
    "chunk_overlap = 50\n",
    "\n",
    "text_splitter = RecursiveCharacterTextSplitter(chunk_size=chunk_size, chunk_overlap=chunk_overlap)\n",
    "epub_loader = UnstructuredEPubLoader('./docs/charles-dickens_a-christmas-carol.epub')\n",
    "chunks = epub_loader.load_and_split(text_splitter)\n",
    "print(len(chunks))"
   ]
  },
  {
   "cell_type": "code",
   "execution_count": 36,
   "id": "8cc2be9a",
   "metadata": {},
   "outputs": [],
   "source": [
    "# TODO: Create embedding model\n",
    "embed_model_name = \"BAAI/bge-small-en-v1.5\"\n",
    "#embed_model_name = \"all-MiniLM-L6-v2\"\n",
    "\n",
    "chroma_embed_func = embedding_functions.SentenceTransformerEmbeddingFunction(\n",
    "   model_name=embed_model_name\n",
    ")"
   ]
  },
  {
   "cell_type": "code",
   "execution_count": 37,
   "id": "4216d410",
   "metadata": {},
   "outputs": [
    {
     "name": "stdout",
     "output_type": "stream",
     "text": [
      "6c254afd >>  Imprint\n",
      "\n",
      "The Standard Ebooks logo.\n",
      "\n",
      "This ebook is the product of many hours of hard work by volunteers for Standard Ebooks, and builds on the hard work of other literature lovers made possible by the public domain.\n",
      "\n",
      "This particular ebook is based on a transcription from Project Gutenberg and on digital scans from the Internet Archive.\n",
      "7f6c1e18 >>  The source text and artwork in this ebook are believed to be in the United States public domain; that is, they are believed to be free of copyright restrictions in the United States. They may still be copyrighted in other countries, so users located outside of the United States must check their local laws before using this ebook. The creators of, and contributors to, this ebook dedicate their contributions to the worldwide public domain via the terms in the CC0 1.0 Universal Public Domain Dedication. For\n",
      "001d0a28 >>  CC0 1.0 Universal Public Domain Dedication. For full license information, see the Uncopyright at the end of this ebook.\n",
      "b1546da4 >>  Standard Ebooks is a volunteer-driven project that produces ebook editions of public domain literature using modern typography, technology, and editorial standards, and distributes them free of cost. You can download this and other ebooks carefully produced for true book lovers at standardebooks.org.\n",
      "\n",
      "Preface\n",
      "a6080278 >>  Preface\n",
      "\n",
      "I have endeavoured in this Ghostly little book to raise the Ghost of an Idea which shall not put my readers out of humour with themselves, with each other, with the season, or with me. May it haunt their house pleasantly, and no one wish to lay it.\n",
      "\n",
      "Their faithful Friend and Servant,\n",
      "\n",
      "C. D.\n",
      "\n",
      "December, 1843.\n",
      "\n",
      "Stave I\n",
      "\n",
      "Marley’s Ghost\n",
      "074388db >>  C. D.\n",
      "\n",
      "December, 1843.\n",
      "\n",
      "Stave I\n",
      "\n",
      "Marley’s Ghost\n",
      "\n",
      "Marley was dead, to begin with. There is no doubt whatever about that. The register of his burial was signed by the clergyman, the clerk, the undertaker, and the chief mourner. Scrooge signed it. And Scrooge’s name was good upon ’Change for anything he chose to put his hand to. Old Marley was as dead as a doornail.\n",
      "d7b42b8a >>  Mind! I don’t mean to say that I know of my own knowledge, what there is particularly dead about a doornail. I might have been inclined, myself, to regard a coffin nail as the deadest piece of ironmongery in the trade. But the wisdom of our ancestors is in the simile; and my unhallowed hands shall not disturb it, or the country’s done for. You will, therefore, permit me to repeat, emphatically, that Marley was as dead as a doornail.\n",
      "fbd4dfb3 >>  Scrooge knew he was dead? Of course he did. How could it be otherwise? Scrooge and he were partners for I don’t know how many years. Scrooge was his sole executor, his sole administrator, his sole assign, his sole residuary legatee, his sole friend, and sole mourner. And even Scrooge was not so dreadfully cut up by the sad event but that he was an excellent man of business on the very day of the funeral, and solemnised it with an undoubted bargain.\n",
      "edda5972 >>  The mention of Marley’s funeral brings me back to the point I started from. There is no doubt that Marley was dead. This must be distinctly understood, or nothing wonderful can come of the story I am going to relate. If we were not perfectly convinced that Hamlet’s father died before the play began, there would be nothing more remarkable in his taking a stroll at night, in an easterly wind, upon his own ramparts, than there would be in any other middle-aged gentleman rashly turning out after dark in a\n",
      "1fc67153 >>  gentleman rashly turning out after dark in a breezy spot﻿—say St. Paul’s Churchyard, for instance﻿—literally to astonish his son’s weak mind.\n"
     ]
    }
   ],
   "source": [
    "# TODO: Prepare the chunks for inserting into Chroma\n",
    "texts = [ d.page_content for d in chunks ]\n",
    "text_ids = [ str(uuid4())[:8] for _ in range(len(texts))]\n",
    "\n",
    "#print(texts)\n",
    "#print(text_ids)\n",
    "\n",
    "for i in range(10):\n",
    "   print(text_ids[i], '>> ', texts[i])"
   ]
  },
  {
   "cell_type": "code",
   "execution_count": 38,
   "id": "72ecae8d",
   "metadata": {},
   "outputs": [],
   "source": [
    "# TODO: Create ephemeral Chroma client and save chunks\n",
    "col_name = 'epub'\n",
    "\n",
    "# Create a chroma client \n",
    "ch_client = chromadb.Client()"
   ]
  },
  {
   "cell_type": "code",
   "execution_count": 39,
   "id": "0642e273",
   "metadata": {},
   "outputs": [],
   "source": [
    "# delete collection\n",
    "try: \n",
    "   ch_client.delete_collection(col_name)\n",
    "except:\n",
    "   print('Done')"
   ]
  },
  {
   "cell_type": "code",
   "execution_count": 40,
   "id": "7a91a1b8",
   "metadata": {},
   "outputs": [
    {
     "data": {
      "text/plain": [
       "Collection(name=epub)"
      ]
     },
     "execution_count": 40,
     "metadata": {},
     "output_type": "execute_result"
    }
   ],
   "source": [
    "# Create epub collection: collection name and the embedding function\n",
    "ch_client.create_collection(name=col_name, embedding_function=chroma_embed_func)"
   ]
  },
  {
   "cell_type": "code",
   "execution_count": 41,
   "id": "9d913bd4",
   "metadata": {},
   "outputs": [],
   "source": [
    "# Insert the documents into the collection ebpub\n",
    "epub_col = ch_client.get_collection(col_name)\n",
    "\n",
    "epub_col.add(documents=texts, ids=text_ids)"
   ]
  },
  {
   "cell_type": "code",
   "execution_count": 42,
   "id": "d7e05547",
   "metadata": {},
   "outputs": [
    {
     "name": "stdout",
     "output_type": "stream",
     "text": [
      "431\n"
     ]
    }
   ],
   "source": [
    "print(epub_col.count())"
   ]
  },
  {
   "cell_type": "code",
   "execution_count": 43,
   "id": "7f2b1dfd",
   "metadata": {},
   "outputs": [
    {
     "name": "stdout",
     "output_type": "stream",
     "text": [
      "{'ids': [['dc684480', 'cf8709f3', '133ffd31', 'da53e500', '15f4ab6c']], 'embeddings': None, 'documents': [['“Christmas a humbug, uncle!” said Scrooge’s nephew. “You don’t mean that, I am sure?”\\n\\n“I do,” said Scrooge. “Merry Christmas! What right have you to be merry? What reason have you to be merry? You’re poor enough.”\\n\\n“Come, then,” returned the nephew gaily. “What right have you to be dismal? What reason have you to be morose? You’re rich enough.”\\n\\nScrooge, having no better answer ready on the spur of the moment, said, “Bah!” again; and followed it up with “Humbug!”', '“What’s today?” cried Scrooge, calling downward to a boy in Sunday clothes, who perhaps had loitered in to look about him.\\n\\n“Eh?” returned the boy with all his might of wonder.\\n\\n“What’s today, my fine fellow?” said Scrooge.\\n\\n“Today!” replied the boy. “Why, Christmas Day.”\\n\\n“It’s Christmas Day!” said Scrooge to himself. “I haven’t missed it. The Spirits have done it all in one night. They can do anything they like. Of course they can. Of course they can. Hallo, my fine fellow!”\\n\\n“Hallo!” returned the boy.', '“I don’t know what to do!” cried Scrooge, laughing and crying in the same breath, and making a perfect Laocoön of himself with his stockings. “I am as light as a feather, I am as happy as an angel, I am as merry as a schoolboy, I am as giddy as a drunken man. A merry Christmas to everybody! A happy new year to all the world! Hallo here! Whoop! Hallo!”\\n\\nHe had frisked into the sitting room, and was now standing there, perfectly winded.', 'Scrooge said that he would see him\\ufeff—Yes, indeed he did. He went the whole length of the expression, and said that he would see him in that extremity first.\\n\\n“But why?” cried Scrooge’s nephew. “Why?”\\n\\n“Why did you get married?” said Scrooge.\\n\\n“Because I fell in love.”\\n\\n“Because you fell in love!” growled Scrooge, as if that were the only one thing in the world more ridiculous than a merry Christmas. “Good afternoon!”', '“I will live in the Past, the Present, and the Future!” Scrooge repeated as he scrambled out of bed. “The Spirits of all Three shall strive within me. O Jacob Marley! Heaven and the Christmas time be praised for this! I say it on my knees, old Jacob; on my knees!”\\n\\nHe was so fluttered and so glowing with his good intentions, that his broken voice would scarcely answer to his call. He had been sobbing violently in his conflict with the Spirit, and his face was wet with tears.']], 'uris': None, 'included': ['metadatas', 'documents', 'distances'], 'data': None, 'metadatas': [[None, None, None, None, None]], 'distances': [[0.374931275844574, 0.39073044061660767, 0.4064081907272339, 0.43645504117012024, 0.43877658247947693]]}\n",
      "['dc684480', 'cf8709f3', '133ffd31', 'da53e500', '15f4ab6c']\n",
      "{'ids': ['dc684480'], 'embeddings': None, 'documents': ['“Christmas a humbug, uncle!” said Scrooge’s nephew. “You don’t mean that, I am sure?”\\n\\n“I do,” said Scrooge. “Merry Christmas! What right have you to be merry? What reason have you to be merry? You’re poor enough.”\\n\\n“Come, then,” returned the nephew gaily. “What right have you to be dismal? What reason have you to be morose? You’re rich enough.”\\n\\nScrooge, having no better answer ready on the spur of the moment, said, “Bah!” again; and followed it up with “Humbug!”'], 'uris': None, 'included': ['metadatas', 'documents'], 'data': None, 'metadatas': [None]}\n",
      "{'ids': ['cf8709f3'], 'embeddings': None, 'documents': ['“What’s today?” cried Scrooge, calling downward to a boy in Sunday clothes, who perhaps had loitered in to look about him.\\n\\n“Eh?” returned the boy with all his might of wonder.\\n\\n“What’s today, my fine fellow?” said Scrooge.\\n\\n“Today!” replied the boy. “Why, Christmas Day.”\\n\\n“It’s Christmas Day!” said Scrooge to himself. “I haven’t missed it. The Spirits have done it all in one night. They can do anything they like. Of course they can. Of course they can. Hallo, my fine fellow!”\\n\\n“Hallo!” returned the boy.'], 'uris': None, 'included': ['metadatas', 'documents'], 'data': None, 'metadatas': [None]}\n",
      "{'ids': ['133ffd31'], 'embeddings': None, 'documents': ['“I don’t know what to do!” cried Scrooge, laughing and crying in the same breath, and making a perfect Laocoön of himself with his stockings. “I am as light as a feather, I am as happy as an angel, I am as merry as a schoolboy, I am as giddy as a drunken man. A merry Christmas to everybody! A happy new year to all the world! Hallo here! Whoop! Hallo!”\\n\\nHe had frisked into the sitting room, and was now standing there, perfectly winded.'], 'uris': None, 'included': ['metadatas', 'documents'], 'data': None, 'metadatas': [None]}\n",
      "{'ids': ['da53e500'], 'embeddings': None, 'documents': ['Scrooge said that he would see him\\ufeff—Yes, indeed he did. He went the whole length of the expression, and said that he would see him in that extremity first.\\n\\n“But why?” cried Scrooge’s nephew. “Why?”\\n\\n“Why did you get married?” said Scrooge.\\n\\n“Because I fell in love.”\\n\\n“Because you fell in love!” growled Scrooge, as if that were the only one thing in the world more ridiculous than a merry Christmas. “Good afternoon!”'], 'uris': None, 'included': ['metadatas', 'documents'], 'data': None, 'metadatas': [None]}\n",
      "{'ids': ['15f4ab6c'], 'embeddings': None, 'documents': ['“I will live in the Past, the Present, and the Future!” Scrooge repeated as he scrambled out of bed. “The Spirits of all Three shall strive within me. O Jacob Marley! Heaven and the Christmas time be praised for this! I say it on my knees, old Jacob; on my knees!”\\n\\nHe was so fluttered and so glowing with his good intentions, that his broken voice would scarcely answer to his call. He had been sobbing violently in his conflict with the Spirit, and his face was wet with tears.'], 'uris': None, 'included': ['metadatas', 'documents'], 'data': None, 'metadatas': [None]}\n"
     ]
    }
   ],
   "source": [
    "# TODO: Query collection \n",
    "query = 'Scrooge'\n",
    "\n",
    "results = epub_col.query(\n",
    "   query_texts=[ query ],\n",
    "   n_results=5\n",
    ")\n",
    "\n",
    "print(results)\n",
    "top_n = results['ids'][0]\n",
    "print(top_n)\n",
    "for i in top_n:\n",
    "   doc = epub_col.get(i)\n",
    "   print(doc)"
   ]
  },
  {
   "cell_type": "code",
   "execution_count": 22,
   "id": "b5d43ebc",
   "metadata": {},
   "outputs": [],
   "source": [
    "model_name = 'google/flan-t5-base'\n",
    "\n",
    "# TODO: Load tokenizer and model\n",
    "tokenizer = AutoTokenizer.from_pretrained(model_name)\n",
    "model = AutoModelForSeq2SeqLM.from_pretrained(model_name)\n"
   ]
  },
  {
   "cell_type": "code",
   "execution_count": null,
   "id": "ae000bb0",
   "metadata": {},
   "outputs": [],
   "source": [
    "print(model)"
   ]
  },
  {
   "cell_type": "code",
   "execution_count": 67,
   "id": "d1ff6929",
   "metadata": {},
   "outputs": [
    {
     "name": "stdout",
     "output_type": "stream",
     "text": [
      "\n",
      "      \n",
      "      \n",
      "      \n",
      "\n",
      "      External heat and cold had little influence on Scrooge. No warmth could warm, no wintry weather chill him. No wind that blew was bitterer than he, no falling snow was more intent upon its purpose, no pelting rain less open to entreaty. Foul weather didn’t know where to have him. The heaviest rain, and snow, and hail, and sleet could boast of the advantage over him in only one respect. They often “came down” handsomely, and Scrooge never did.\n",
      "   \n",
      "\n",
      "      Scrooge was at first inclined to be surprised that the Spirit should attach importance to conversations apparently so trivial; but feeling assured that they must have some hidden purpose, he set himself to consider what it was likely to be. They could scarcely be supposed to have any bearing on the death of Jacob, his old partner, for that was Past, and this Ghost’s province was the Future. Nor could he think of anyone immediately connected with himself to whom he could apply them. But nothing doubting\n",
      "   \n",
      "\n",
      "      Scrooge reverently disclaimed all intention to offend or any knowledge of having wilfully “bonneted” the Spirit at any period of his life. He then made bold to inquire what business brought him there.\n",
      "\n",
      "“Your welfare!” said the Ghost.\n",
      "\n",
      "Scrooge expressed himself much obliged, but could not help thinking that a night of unbroken rest would have been more conducive to that end. The Spirit must have heard him thinking, for it said immediately﻿—\n",
      "\n",
      "“Your reclamation, then. Take heed!”\n",
      "   \n"
     ]
    }
   ],
   "source": [
    "question = \"What happened to Marley?\"\n",
    "#question = \"Why does scrooge dislike Christmas?\"\n",
    "question = \"What does Scrooge's nephew try to convince him to do in Stave One?\"\n",
    "question = \"What is the relationship between Scrooge and Marley?\"\n",
    "question = \"What is Scrooge's job?\"\n",
    "question = \"Why do you think that Scrooge refused to allow more than one piece of coal to be on the burner at a time?\"\n",
    "\n",
    "results = epub_col.query(\n",
    "   query_texts=[ question ],\n",
    "   n_results=3\n",
    ")\n",
    "\n",
    "context = \"\"\n",
    "for ids in results['ids'][0]:\n",
    "   doc  = epub_col.get(ids)\n",
    "   context = f\"\"\"\n",
    "      {context}\n",
    "\n",
    "      {doc['documents'][0].strip()}\n",
    "   \"\"\"\n",
    "\n",
    "print(context)"
   ]
  },
  {
   "cell_type": "code",
   "execution_count": 68,
   "id": "609354e2",
   "metadata": {},
   "outputs": [
    {
     "name": "stdout",
     "output_type": "stream",
     "text": [
      " \n",
      "Answer based on context:\n",
      "\n",
      "\n",
      "      \n",
      "      \n",
      "      \n",
      "\n",
      "      External heat and cold had little influence on Scrooge. No warmth could warm, no wintry weather chill him. No wind that blew was bitterer than he, no falling snow was more intent upon its purpose, no pelting rain less open to entreaty. Foul weather didn’t know where to have him. The heaviest rain, and snow, and hail, and sleet could boast of the advantage over him in only one respect. They often “came down” handsomely, and Scrooge never did.\n",
      "   \n",
      "\n",
      "      Scrooge was at first inclined to be surprised that the Spirit should attach importance to conversations apparently so trivial; but feeling assured that they must have some hidden purpose, he set himself to consider what it was likely to be. They could scarcely be supposed to have any bearing on the death of Jacob, his old partner, for that was Past, and this Ghost’s province was the Future. Nor could he think of anyone immediately connected with himself to whom he could apply them. But nothing doubting\n",
      "   \n",
      "\n",
      "      Scrooge reverently disclaimed all intention to offend or any knowledge of having wilfully “bonneted” the Spirit at any period of his life. He then made bold to inquire what business brought him there.\n",
      "\n",
      "“Your welfare!” said the Ghost.\n",
      "\n",
      "Scrooge expressed himself much obliged, but could not help thinking that a night of unbroken rest would have been more conducive to that end. The Spirit must have heard him thinking, for it said immediately﻿—\n",
      "\n",
      "“Your reclamation, then. Take heed!”\n",
      "   \n",
      "\n",
      "Why do you think that Scrooge refused to allow more than one piece of coal to be on the burner at a time?\n",
      "\n"
     ]
    }
   ],
   "source": [
    "#  (\"Answer based on context:\\n\\n{context}\\n\\n{question}\", \"{answer}\")\n",
    "prompt = f\"\"\" \n",
    "Answer based on context:\n",
    "\n",
    "{context}\n",
    "\n",
    "{question}\n",
    "\"\"\" \n",
    "\n",
    "print(prompt)"
   ]
  },
  {
   "cell_type": "code",
   "execution_count": 69,
   "id": "0a5fe4f7",
   "metadata": {},
   "outputs": [
    {
     "name": "stdout",
     "output_type": "stream",
     "text": [
      "Question:\n",
      "Why do you think that Scrooge refused to allow more than one piece of coal to be on the burner at a time?\n",
      "\n",
      "He was not sure what to do.\n"
     ]
    }
   ],
   "source": [
    "prompt_enc = tokenizer(prompt, return_tensors='pt').input_ids\n",
    "answer_enc = model.generate(prompt_enc)\n",
    "answer = tokenizer.decode(answer_enc[0], skip_special_tokens=True)\n",
    "print(f'Question:\\n{question}\\n')\n",
    "print(answer)"
   ]
  }
 ],
 "metadata": {
  "kernelspec": {
   "display_name": ".venv",
   "language": "python",
   "name": "python3"
  },
  "language_info": {
   "codemirror_mode": {
    "name": "ipython",
    "version": 3
   },
   "file_extension": ".py",
   "mimetype": "text/x-python",
   "name": "python",
   "nbconvert_exporter": "python",
   "pygments_lexer": "ipython3",
   "version": "3.12.3"
  }
 },
 "nbformat": 4,
 "nbformat_minor": 5
}
