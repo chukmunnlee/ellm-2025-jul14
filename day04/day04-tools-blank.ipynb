{
 "cells": [
  {
   "cell_type": "markdown",
   "metadata": {},
   "source": [
    "# Tools\n",
    "\n",
    "This notebook contains all the tools that will be used by the agent."
   ]
  },
  {
   "cell_type": "code",
   "execution_count": 2,
   "metadata": {},
   "outputs": [],
   "source": [
    "import requests\n",
    "import sqlite3\n",
    "import pandas as pd\n",
    "\n",
    "from smolagents import tool, Tool\n",
    "\n",
    "from langchain_community.tools.ddg_search.tool import DuckDuckGoSearchRun"
   ]
  },
  {
   "cell_type": "markdown",
   "metadata": {},
   "source": [
    "## Creating simple tool\n",
    "\n",
    "A Python function must be annotated with `@tool`. It should also have a docstring describing what does the function do, what does it return and the description of its parameters."
   ]
  },
  {
   "cell_type": "markdown",
   "metadata": {},
   "source": [
    "### City to location \n",
    "\n",
    "The following function look up at latitude and longitude of a city."
   ]
  },
  {
   "cell_type": "code",
   "execution_count": 3,
   "metadata": {},
   "outputs": [],
   "source": [
    "# TODO: Load CSV file containing latitude, longitude and altitude of cities\n",
    "# https://github.com/bahar/WorldCityLocations/tree/master\n",
    "df = pd.read_csv('data/cities_latlng.csv', sep=';')\n",
    "df.columns = [ 'id', 'country', 'city', 'latitude', 'longitude', 'altitude' ]\n",
    "df.drop('country', axis=1, inplace=True)"
   ]
  },
  {
   "cell_type": "code",
   "execution_count": 4,
   "metadata": {},
   "outputs": [
    {
     "data": {
      "text/html": [
       "<div>\n",
       "<style scoped>\n",
       "    .dataframe tbody tr th:only-of-type {\n",
       "        vertical-align: middle;\n",
       "    }\n",
       "\n",
       "    .dataframe tbody tr th {\n",
       "        vertical-align: top;\n",
       "    }\n",
       "\n",
       "    .dataframe thead th {\n",
       "        text-align: right;\n",
       "    }\n",
       "</style>\n",
       "<table border=\"1\" class=\"dataframe\">\n",
       "  <thead>\n",
       "    <tr style=\"text-align: right;\">\n",
       "      <th></th>\n",
       "      <th>id</th>\n",
       "      <th>city</th>\n",
       "      <th>latitude</th>\n",
       "      <th>longitude</th>\n",
       "      <th>altitude</th>\n",
       "    </tr>\n",
       "  </thead>\n",
       "  <tbody>\n",
       "    <tr>\n",
       "      <th>0</th>\n",
       "      <td>2</td>\n",
       "      <td>Kandahar</td>\n",
       "      <td>31.610000</td>\n",
       "      <td>65.699997</td>\n",
       "      <td>1015</td>\n",
       "    </tr>\n",
       "    <tr>\n",
       "      <th>1</th>\n",
       "      <td>3</td>\n",
       "      <td>Mazar-e Sharif</td>\n",
       "      <td>36.706944</td>\n",
       "      <td>67.112221</td>\n",
       "      <td>369</td>\n",
       "    </tr>\n",
       "    <tr>\n",
       "      <th>2</th>\n",
       "      <td>4</td>\n",
       "      <td>Herat</td>\n",
       "      <td>34.340000</td>\n",
       "      <td>62.189999</td>\n",
       "      <td>927</td>\n",
       "    </tr>\n",
       "    <tr>\n",
       "      <th>3</th>\n",
       "      <td>5</td>\n",
       "      <td>Jalalabad</td>\n",
       "      <td>34.420000</td>\n",
       "      <td>70.449997</td>\n",
       "      <td>573</td>\n",
       "    </tr>\n",
       "    <tr>\n",
       "      <th>4</th>\n",
       "      <td>6</td>\n",
       "      <td>Konduz</td>\n",
       "      <td>36.720000</td>\n",
       "      <td>68.860001</td>\n",
       "      <td>394</td>\n",
       "    </tr>\n",
       "  </tbody>\n",
       "</table>\n",
       "</div>"
      ],
      "text/plain": [
       "   id            city   latitude  longitude  altitude\n",
       "0   2        Kandahar  31.610000  65.699997      1015\n",
       "1   3  Mazar-e Sharif  36.706944  67.112221       369\n",
       "2   4           Herat  34.340000  62.189999       927\n",
       "3   5       Jalalabad  34.420000  70.449997       573\n",
       "4   6          Konduz  36.720000  68.860001       394"
      ]
     },
     "execution_count": 4,
     "metadata": {},
     "output_type": "execute_result"
    }
   ],
   "source": [
    "# TODO: Explore the loaded dataframe\n",
    "df.head()"
   ]
  },
  {
   "cell_type": "code",
   "execution_count": 5,
   "metadata": {},
   "outputs": [
    {
     "data": {
      "text/html": [
       "<div>\n",
       "<style scoped>\n",
       "    .dataframe tbody tr th:only-of-type {\n",
       "        vertical-align: middle;\n",
       "    }\n",
       "\n",
       "    .dataframe tbody tr th {\n",
       "        vertical-align: top;\n",
       "    }\n",
       "\n",
       "    .dataframe thead th {\n",
       "        text-align: right;\n",
       "    }\n",
       "</style>\n",
       "<table border=\"1\" class=\"dataframe\">\n",
       "  <thead>\n",
       "    <tr style=\"text-align: right;\">\n",
       "      <th></th>\n",
       "      <th>id</th>\n",
       "      <th>city</th>\n",
       "      <th>latitude</th>\n",
       "      <th>longitude</th>\n",
       "      <th>altitude</th>\n",
       "    </tr>\n",
       "  </thead>\n",
       "  <tbody>\n",
       "    <tr>\n",
       "      <th>10566</th>\n",
       "      <td>10568</td>\n",
       "      <td>Singapore</td>\n",
       "      <td>1.29027</td>\n",
       "      <td>103.851959</td>\n",
       "      <td>164</td>\n",
       "    </tr>\n",
       "  </tbody>\n",
       "</table>\n",
       "</div>"
      ],
      "text/plain": [
       "          id       city  latitude   longitude  altitude\n",
       "10566  10568  Singapore   1.29027  103.851959       164"
      ]
     },
     "execution_count": 5,
     "metadata": {},
     "output_type": "execute_result"
    }
   ],
   "source": [
    "df[df['city'] == 'Singapore']"
   ]
  },
  {
   "cell_type": "code",
   "execution_count": 12,
   "metadata": {},
   "outputs": [],
   "source": [
    "# TODO: Add tool description\n",
    "\n",
    "# Add the @tool decorator to the function\n",
    "@tool\n",
    "def get_latlng(city: str) -> any:\n",
    "   \"\"\"\n",
    "   Get the latitude, longitude and altitude of a city. The result is return in a dictionary\n",
    "\n",
    "   Args:\n",
    "       city: the name of the city that you want to get the latitude, longitude and altitude. The city name is case insensitive\n",
    "\n",
    "   Returns:\n",
    "      any: a dictionary with the following keys: city, latitude, longitude, altitude\n",
    "\n",
    "   Example:\n",
    "      result = get_latlng('singapore') # city name is case insensitive\n",
    "   \"\"\"\n",
    "   r = df.query(f\"city.str.lower() == '{city.lower()}'\")\n",
    "   return { 'city': city, 'latitude': r.iloc[0]['latitude'], 'longitude': r.iloc[0]['longitude'], 'altitude': r.iloc[0]['altitude'] }"
   ]
  },
  {
   "cell_type": "code",
   "execution_count": 13,
   "metadata": {},
   "outputs": [
    {
     "data": {
      "text/plain": [
       "{'city': 'kuala lumpur',\n",
       " 'latitude': np.float64(3.1666667),\n",
       " 'longitude': np.float64(101.6999969),\n",
       " 'altitude': np.int64(62)}"
      ]
     },
     "execution_count": 13,
     "metadata": {},
     "output_type": "execute_result"
    }
   ],
   "source": [
    "# TODO: Test get_latlng method\n",
    "# case insensitive search\n",
    "get_latlng('kuala lumpur')"
   ]
  },
  {
   "cell_type": "markdown",
   "metadata": {},
   "source": [
    "### Temperature at latitude and longitude\n",
    "\n",
    "The following function lookup the weather at the given latitude and longtude."
   ]
  },
  {
   "cell_type": "code",
   "execution_count": 17,
   "metadata": {},
   "outputs": [],
   "source": [
    "# TODO: Add tool description\n",
    "\n",
    "@tool\n",
    "def get_temperature(latitude: float, longitude: float) -> any:\n",
    "   \"\"\" \n",
    "   Get the temperature of a city given by its latitude and longitude. \n",
    "\n",
    "   Args:\n",
    "      latitude: latitude of the city given in float\n",
    "      longitude: longitude of the city given in float\n",
    "\n",
    "   Return:\n",
    "      any: a dictionary with the following keys: temperature_unit, temperature\n",
    "\n",
    "   Example:\n",
    "      result = get_temperature(3.1666667, 101.6999969)\n",
    "   \"\"\"\n",
    "   url = f\"https://api.open-meteo.com/v1/forecast?latitude={latitude}&longitude={longitude}&current=temperature_2m\"\n",
    "   resp = requests.get(url)\n",
    "   j = resp.json()\n",
    "   if resp.status_code >= 400:\n",
    "      raise Exception(j['reason'])\n",
    "   temperature = j['current']['temperature_2m']\n",
    "   units = j['current_units']['temperature_2m']\n",
    "   return { \"temperature_unit\": units, \"temperature\": temperature }"
   ]
  },
  {
   "cell_type": "code",
   "execution_count": 18,
   "metadata": {},
   "outputs": [
    {
     "data": {
      "text/plain": [
       "{'temperature_unit': '°C', 'temperature': 31.2}"
      ]
     },
     "execution_count": 18,
     "metadata": {},
     "output_type": "execute_result"
    }
   ],
   "source": [
    "# TODO: Test get_temperature method\n",
    "get_temperature(3.1666667, 101.6999969)"
   ]
  },
  {
   "cell_type": "code",
   "execution_count": 19,
   "metadata": {},
   "outputs": [],
   "source": [
    "# TODO: Create a web search tool\n",
    "\n",
    "def web_search(query: str) -> any:\n",
    "\n",
    "   search = DuckDuckGoSearchRun()\n",
    "   return search.invoke(query)"
   ]
  },
  {
   "cell_type": "code",
   "execution_count": 21,
   "metadata": {},
   "outputs": [
    {
     "name": "stdout",
     "output_type": "stream",
     "text": [
      "ERROR: unknown command \"duckduckgo_search\"\n",
      "Note: you may need to restart the kernel to use updated packages.\n"
     ]
    }
   ],
   "source": [
    "%pip duckduckgo_search"
   ]
  },
  {
   "cell_type": "code",
   "execution_count": null,
   "metadata": {},
   "outputs": [],
   "source": [
    "# TODO: Test the web search\n"
   ]
  },
  {
   "cell_type": "markdown",
   "metadata": {},
   "source": [
    "### Query relational database\n",
    "\n",
    "The following function queries a relational database (SQLite) view called `album_track`. The table's schema is as follows:\n",
    "| Field name  | Type          |\n",
    "|-------------|---------------| \n",
    "| AlbumId     | integer       |\n",
    "| Title       | nvarchar(160) |\n",
    "| track_name  | nvarchar(200) |\n",
    "| artist_name | nvarchar(120) |\n",
    "| duration    | integer       |\n",
    "| composer    | nvarchar(220) |\n"
   ]
  },
  {
   "cell_type": "code",
   "execution_count": null,
   "metadata": {},
   "outputs": [],
   "source": [
    "# TODO: Add tool description\n",
    "\n",
    "@tool\n",
    "def query_album_track(sql_query: str) -> any:\n",
    "   \"\"\" \n",
    "   Perform SQL queries on the album_track table only. The result is return in a list.\n",
    "   The table name is album_track and has the following columns:\n",
    "      AlbumId: integer\n",
    "      Title: nvarchar(160)\n",
    "      track_name: nvarchar(200)\n",
    "      artist_name: nvarchar(120)\n",
    "      duration: integer\n",
    "      composer: nvarchar(220)\n",
    "   The duration column is in milliseconds. \n",
    "   The database is SQLlite.\n",
    "\n",
    "   Args:\n",
    "      sql_query: a valid SQL query or SQL dialect for SQLlite \n",
    "\n",
    "   Return: \n",
    "      any: list of tuple. Each element correspond to a record produced by the sql_query parameter\n",
    "\n",
    "   Example:\n",
    "      result = query_album_track('select * from album_track where artist_name like \"%abba%\"')\n",
    "\n",
    "   \"\"\"\n",
    "   database = \"data/chinook_sqlite.sqlite\" \n",
    "   conn = sqlite3.connect(database)\n",
    "   try:\n",
    "      cursor = conn.cursor() \n",
    "      rows = cursor.execute(sql_query)\n",
    "      return rows.fetchall()\n",
    "   finally:\n",
    "      conn.close()"
   ]
  },
  {
   "cell_type": "code",
   "execution_count": 26,
   "metadata": {},
   "outputs": [
    {
     "data": {
      "text/plain": [
       "[(16, 'Black Sabbath', 'Black Sabbath', 'Black Sabbath', 382066, None),\n",
       " (16, 'Black Sabbath', 'The Wizard', 'Black Sabbath', 264829, None),\n",
       " (16,\n",
       "  'Black Sabbath',\n",
       "  'Behind The Wall Of Sleep',\n",
       "  'Black Sabbath',\n",
       "  217573,\n",
       "  None),\n",
       " (16, 'Black Sabbath', 'N.I.B.', 'Black Sabbath', 368770, None),\n",
       " (16, 'Black Sabbath', 'Evil Woman', 'Black Sabbath', 204930, None),\n",
       " (16, 'Black Sabbath', 'Sleeping Village', 'Black Sabbath', 644571, None),\n",
       " (16, 'Black Sabbath', 'Warning', 'Black Sabbath', 212062, None),\n",
       " (17,\n",
       "  'Black Sabbath Vol. 4 (Remaster)',\n",
       "  'Wheels Of Confusion / The Straightener',\n",
       "  'Black Sabbath',\n",
       "  494524,\n",
       "  'Tony Iommi, Bill Ward, Geezer Butler, Ozzy Osbourne'),\n",
       " (17,\n",
       "  'Black Sabbath Vol. 4 (Remaster)',\n",
       "  \"Tomorrow's Dream\",\n",
       "  'Black Sabbath',\n",
       "  192496,\n",
       "  'Tony Iommi, Bill Ward, Geezer Butler, Ozzy Osbourne'),\n",
       " (17,\n",
       "  'Black Sabbath Vol. 4 (Remaster)',\n",
       "  'Changes',\n",
       "  'Black Sabbath',\n",
       "  286275,\n",
       "  'Tony Iommi, Bill Ward, Geezer Butler, Ozzy Osbourne'),\n",
       " (17,\n",
       "  'Black Sabbath Vol. 4 (Remaster)',\n",
       "  'FX',\n",
       "  'Black Sabbath',\n",
       "  103157,\n",
       "  'Tony Iommi, Bill Ward, Geezer Butler, Ozzy Osbourne'),\n",
       " (17,\n",
       "  'Black Sabbath Vol. 4 (Remaster)',\n",
       "  'Supernaut',\n",
       "  'Black Sabbath',\n",
       "  285779,\n",
       "  'Tony Iommi, Bill Ward, Geezer Butler, Ozzy Osbourne'),\n",
       " (17,\n",
       "  'Black Sabbath Vol. 4 (Remaster)',\n",
       "  'Snowblind',\n",
       "  'Black Sabbath',\n",
       "  331676,\n",
       "  'Tony Iommi, Bill Ward, Geezer Butler, Ozzy Osbourne'),\n",
       " (17,\n",
       "  'Black Sabbath Vol. 4 (Remaster)',\n",
       "  'Cornucopia',\n",
       "  'Black Sabbath',\n",
       "  234814,\n",
       "  'Tony Iommi, Bill Ward, Geezer Butler, Ozzy Osbourne'),\n",
       " (17,\n",
       "  'Black Sabbath Vol. 4 (Remaster)',\n",
       "  'Laguna Sunrise',\n",
       "  'Black Sabbath',\n",
       "  173087,\n",
       "  'Tony Iommi, Bill Ward, Geezer Butler, Ozzy Osbourne'),\n",
       " (17,\n",
       "  'Black Sabbath Vol. 4 (Remaster)',\n",
       "  'St. Vitus Dance',\n",
       "  'Black Sabbath',\n",
       "  149655,\n",
       "  'Tony Iommi, Bill Ward, Geezer Butler, Ozzy Osbourne'),\n",
       " (17,\n",
       "  'Black Sabbath Vol. 4 (Remaster)',\n",
       "  'Under The Sun/Every Day Comes and Goes',\n",
       "  'Black Sabbath',\n",
       "  350458,\n",
       "  'Tony Iommi, Bill Ward, Geezer Butler, Ozzy Osbourne'),\n",
       " (282,\n",
       "  'Mozart: Wind Concertos',\n",
       "  'Concerto for Clarinet in A Major, K. 622: II. Adagio',\n",
       "  'Berliner Philharmoniker, Claudio Abbado & Sabine Meyer',\n",
       "  394482,\n",
       "  'Wolfgang Amadeus Mozart')]"
      ]
     },
     "execution_count": 26,
     "metadata": {},
     "output_type": "execute_result"
    }
   ],
   "source": [
    "# TODO: Test the query_album_track function\n",
    "query_album_track('select * from album_track where artist_name like \"%abba%\"')"
   ]
  },
  {
   "cell_type": "markdown",
   "metadata": {},
   "source": [
    "### Tools with states\n",
    "\n",
    "The following isn an example of a more complex tool that requires initialisation"
   ]
  },
  {
   "cell_type": "code",
   "execution_count": 27,
   "metadata": {},
   "outputs": [],
   "source": [
    "# extend Tool\n",
    "class SQLiteTool(Tool):\n",
    "\n",
    "   name = \"chinook_sqlite\"\n",
    "   description = \"\"\" \n",
    "      Perform SQL queries on the album_track table only. The result is return in a list.\n",
    "      The table name is album_track and has the following columns:\n",
    "         AlbumId: integer\n",
    "         Title: nvarchar(160)\n",
    "         track_name: nvarchar(200)\n",
    "         artist_name: nvarchar(120)\n",
    "         duration: integer\n",
    "         composer: nvarchar(220)\n",
    "      The duration column is in milliseconds. \n",
    "      The database is SQLlite.\n",
    "   \"\"\"\n",
    "\n",
    "   # Args:\n",
    "   inputs = {\n",
    "      'sql_query': {\n",
    "         'type': 'string',\n",
    "         'description': 'A valid SQL query or SQL dialect for SQLlite'\n",
    "      }\n",
    "   }\n",
    "\n",
    "   output_type = \"any\"\n",
    "\n",
    "   def __init__(self, db_file):\n",
    "      self.db_file = db_file \n",
    "      # must call setup() - to initialize the tool\n",
    "      self.setup()\n",
    "\n",
    "   # tool logic is in forward()\n",
    "   def forward(self, sql_query: str) -> any:\n",
    "      conn = sqlite3.connect(self.db_file)\n",
    "      try:\n",
    "         cursor = conn.cursor() \n",
    "         rows = cursor.execute(sql_query)\n",
    "         return rows.fetchall()\n",
    "      finally:\n",
    "         conn.close()   "
   ]
  }
 ],
 "metadata": {
  "kernelspec": {
   "display_name": ".venv",
   "language": "python",
   "name": "python3"
  },
  "language_info": {
   "codemirror_mode": {
    "name": "ipython",
    "version": 3
   },
   "file_extension": ".py",
   "mimetype": "text/x-python",
   "name": "python",
   "nbconvert_exporter": "python",
   "pygments_lexer": "ipython3",
   "version": "3.12.3"
  }
 },
 "nbformat": 4,
 "nbformat_minor": 2
}
